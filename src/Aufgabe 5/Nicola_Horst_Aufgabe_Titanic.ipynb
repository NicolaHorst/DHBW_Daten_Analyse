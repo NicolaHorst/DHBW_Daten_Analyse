{
 "cells": [
  {
   "cell_type": "markdown",
   "source": [
    "# Import libraries"
   ],
   "metadata": {
    "collapsed": false,
    "pycharm": {
     "name": "#%% md\n"
    }
   }
  },
  {
   "cell_type": "code",
   "execution_count": 1,
   "outputs": [
    {
     "name": "stdout",
     "output_type": "stream",
     "text": [
      "WARNING:tensorflow:From C:\\Users\\nic-e\\OneDrive\\Dokumente\\GitHub\\DHBW_Daten_Analyse\\venv\\lib\\site-packages\\tensorflow\\python\\compat\\v2_compat.py:107: disable_resource_variables (from tensorflow.python.ops.variable_scope) is deprecated and will be removed in a future version.\n",
      "Instructions for updating:\n",
      "non-resource variables are not supported in the long term\n",
      "curses is not supported on this machine (please install/reinstall curses for an optimal experience)\n"
     ]
    }
   ],
   "source": [
    "import pandas as pd\n",
    "import numpy as np\n",
    "import tflearn\n",
    "from tflearn.data_utils import load_csv\n",
    "from tflearn.datasets import titanic\n",
    "from sklearn.model_selection import train_test_split\n",
    "from sklearn.preprocessing import LabelEncoder\n",
    "import matplotlib.pyplot as plt\n",
    "import seaborn as sns"
   ],
   "metadata": {
    "collapsed": false,
    "pycharm": {
     "name": "#%%\n"
    }
   }
  },
  {
   "cell_type": "code",
   "execution_count": 2,
   "outputs": [],
   "source": [
    "# Download des Titanic-Datensatzes\n",
    "titanic.download_dataset('titanic_dataset.csv')\n",
    "\n",
    "# CSV-Datei laden, angeben, dass die erste Spalte Beschriftungen darstellt\n",
    "data, labels = load_csv('titanic_dataset.csv', target_column=0,\n",
    "                        categorical_labels=True, n_classes=2, has_header=True)\n",
    "\n",
    "df = pd.DataFrame(data)\n",
    "\n",
    "# Führen Sie einen Test/Train-Split durch\n",
    "X_train, X_test, y_train, y_test = train_test_split(df, labels, test_size=0.2, random_state=42)"
   ],
   "metadata": {
    "collapsed": false,
    "pycharm": {
     "name": "#%%\n"
    }
   }
  },
  {
   "cell_type": "code",
   "execution_count": 3,
   "outputs": [
    {
     "data": {
      "text/plain": "     0                          1       2   3  4  5           6         7\n772  3            Dika, Mr. Mirko    male  17  0  0      349232    7.8958\n543  2          Reeves, Mr. David    male  36  0  0  C.A. 17248   10.5000\n289  1        Taussig, Miss. Ruth  female  18  0  2      110413   79.6500\n10   1     Astor, Col. John Jacob    male  47  1  0    PC 17757  227.5250\n147  1  Harrington, Mr. Charles H    male   0  0  0      113796   42.4000",
      "text/html": "<div>\n<style scoped>\n    .dataframe tbody tr th:only-of-type {\n        vertical-align: middle;\n    }\n\n    .dataframe tbody tr th {\n        vertical-align: top;\n    }\n\n    .dataframe thead th {\n        text-align: right;\n    }\n</style>\n<table border=\"1\" class=\"dataframe\">\n  <thead>\n    <tr style=\"text-align: right;\">\n      <th></th>\n      <th>0</th>\n      <th>1</th>\n      <th>2</th>\n      <th>3</th>\n      <th>4</th>\n      <th>5</th>\n      <th>6</th>\n      <th>7</th>\n    </tr>\n  </thead>\n  <tbody>\n    <tr>\n      <th>772</th>\n      <td>3</td>\n      <td>Dika, Mr. Mirko</td>\n      <td>male</td>\n      <td>17</td>\n      <td>0</td>\n      <td>0</td>\n      <td>349232</td>\n      <td>7.8958</td>\n    </tr>\n    <tr>\n      <th>543</th>\n      <td>2</td>\n      <td>Reeves, Mr. David</td>\n      <td>male</td>\n      <td>36</td>\n      <td>0</td>\n      <td>0</td>\n      <td>C.A. 17248</td>\n      <td>10.5000</td>\n    </tr>\n    <tr>\n      <th>289</th>\n      <td>1</td>\n      <td>Taussig, Miss. Ruth</td>\n      <td>female</td>\n      <td>18</td>\n      <td>0</td>\n      <td>2</td>\n      <td>110413</td>\n      <td>79.6500</td>\n    </tr>\n    <tr>\n      <th>10</th>\n      <td>1</td>\n      <td>Astor, Col. John Jacob</td>\n      <td>male</td>\n      <td>47</td>\n      <td>1</td>\n      <td>0</td>\n      <td>PC 17757</td>\n      <td>227.5250</td>\n    </tr>\n    <tr>\n      <th>147</th>\n      <td>1</td>\n      <td>Harrington, Mr. Charles H</td>\n      <td>male</td>\n      <td>0</td>\n      <td>0</td>\n      <td>0</td>\n      <td>113796</td>\n      <td>42.4000</td>\n    </tr>\n  </tbody>\n</table>\n</div>"
     },
     "execution_count": 3,
     "metadata": {},
     "output_type": "execute_result"
    }
   ],
   "source": [
    "X_train.head()"
   ],
   "metadata": {
    "collapsed": false,
    "pycharm": {
     "name": "#%%\n"
    }
   }
  },
  {
   "cell_type": "markdown",
   "source": [
    "# Transformationen\n",
    "- Spalte 1 und 6 streichen \n",
    "- Spalte zwei als Kat-Codes umcodieren\n",
    "- Typ Float32 für alle Spalten"
   ],
   "metadata": {
    "collapsed": false,
    "pycharm": {
     "name": "#%% md\n"
    }
   }
  },
  {
   "cell_type": "code",
   "execution_count": 4,
   "outputs": [
    {
     "data": {
      "text/plain": "     0                          1       2   3  4  5           6         7\n772  3            Dika, Mr. Mirko    male  17  0  0      349232    7.8958\n543  2          Reeves, Mr. David    male  36  0  0  C.A. 17248   10.5000\n289  1        Taussig, Miss. Ruth  female  18  0  2      110413   79.6500\n10   1     Astor, Col. John Jacob    male  47  1  0    PC 17757  227.5250\n147  1  Harrington, Mr. Charles H    male   0  0  0      113796   42.4000",
      "text/html": "<div>\n<style scoped>\n    .dataframe tbody tr th:only-of-type {\n        vertical-align: middle;\n    }\n\n    .dataframe tbody tr th {\n        vertical-align: top;\n    }\n\n    .dataframe thead th {\n        text-align: right;\n    }\n</style>\n<table border=\"1\" class=\"dataframe\">\n  <thead>\n    <tr style=\"text-align: right;\">\n      <th></th>\n      <th>0</th>\n      <th>1</th>\n      <th>2</th>\n      <th>3</th>\n      <th>4</th>\n      <th>5</th>\n      <th>6</th>\n      <th>7</th>\n    </tr>\n  </thead>\n  <tbody>\n    <tr>\n      <th>772</th>\n      <td>3</td>\n      <td>Dika, Mr. Mirko</td>\n      <td>male</td>\n      <td>17</td>\n      <td>0</td>\n      <td>0</td>\n      <td>349232</td>\n      <td>7.8958</td>\n    </tr>\n    <tr>\n      <th>543</th>\n      <td>2</td>\n      <td>Reeves, Mr. David</td>\n      <td>male</td>\n      <td>36</td>\n      <td>0</td>\n      <td>0</td>\n      <td>C.A. 17248</td>\n      <td>10.5000</td>\n    </tr>\n    <tr>\n      <th>289</th>\n      <td>1</td>\n      <td>Taussig, Miss. Ruth</td>\n      <td>female</td>\n      <td>18</td>\n      <td>0</td>\n      <td>2</td>\n      <td>110413</td>\n      <td>79.6500</td>\n    </tr>\n    <tr>\n      <th>10</th>\n      <td>1</td>\n      <td>Astor, Col. John Jacob</td>\n      <td>male</td>\n      <td>47</td>\n      <td>1</td>\n      <td>0</td>\n      <td>PC 17757</td>\n      <td>227.5250</td>\n    </tr>\n    <tr>\n      <th>147</th>\n      <td>1</td>\n      <td>Harrington, Mr. Charles H</td>\n      <td>male</td>\n      <td>0</td>\n      <td>0</td>\n      <td>0</td>\n      <td>113796</td>\n      <td>42.4000</td>\n    </tr>\n  </tbody>\n</table>\n</div>"
     },
     "execution_count": 4,
     "metadata": {},
     "output_type": "execute_result"
    }
   ],
   "source": [
    "X_train.head()"
   ],
   "metadata": {
    "collapsed": false,
    "pycharm": {
     "name": "#%%\n"
    }
   }
  },
  {
   "cell_type": "code",
   "execution_count": 5,
   "outputs": [],
   "source": [
    "def preprocess(r):\n",
    "    r = r.drop([1, 6], axis=1,errors='ignore')\n",
    "    r[2] = r[2].astype('category')\n",
    "    r[2] = r[2].cat.codes\n",
    "    for column in r.columns:\n",
    "        r[column] = r[column].astype(np.float32)\n",
    "    return r.values"
   ],
   "metadata": {
    "collapsed": false,
    "pycharm": {
     "name": "#%%\n"
    }
   }
  },
  {
   "cell_type": "code",
   "execution_count": 6,
   "outputs": [
    {
     "data": {
      "text/plain": "     0    1     2    3    4           5\n0  3.0  1.0  17.0  0.0  0.0    7.895800\n1  2.0  1.0  36.0  0.0  0.0   10.500000\n2  1.0  0.0  18.0  0.0  2.0   79.650002\n3  1.0  1.0  47.0  1.0  0.0  227.524994\n4  1.0  1.0   0.0  0.0  0.0   42.400002",
      "text/html": "<div>\n<style scoped>\n    .dataframe tbody tr th:only-of-type {\n        vertical-align: middle;\n    }\n\n    .dataframe tbody tr th {\n        vertical-align: top;\n    }\n\n    .dataframe thead th {\n        text-align: right;\n    }\n</style>\n<table border=\"1\" class=\"dataframe\">\n  <thead>\n    <tr style=\"text-align: right;\">\n      <th></th>\n      <th>0</th>\n      <th>1</th>\n      <th>2</th>\n      <th>3</th>\n      <th>4</th>\n      <th>5</th>\n    </tr>\n  </thead>\n  <tbody>\n    <tr>\n      <th>0</th>\n      <td>3.0</td>\n      <td>1.0</td>\n      <td>17.0</td>\n      <td>0.0</td>\n      <td>0.0</td>\n      <td>7.895800</td>\n    </tr>\n    <tr>\n      <th>1</th>\n      <td>2.0</td>\n      <td>1.0</td>\n      <td>36.0</td>\n      <td>0.0</td>\n      <td>0.0</td>\n      <td>10.500000</td>\n    </tr>\n    <tr>\n      <th>2</th>\n      <td>1.0</td>\n      <td>0.0</td>\n      <td>18.0</td>\n      <td>0.0</td>\n      <td>2.0</td>\n      <td>79.650002</td>\n    </tr>\n    <tr>\n      <th>3</th>\n      <td>1.0</td>\n      <td>1.0</td>\n      <td>47.0</td>\n      <td>1.0</td>\n      <td>0.0</td>\n      <td>227.524994</td>\n    </tr>\n    <tr>\n      <th>4</th>\n      <td>1.0</td>\n      <td>1.0</td>\n      <td>0.0</td>\n      <td>0.0</td>\n      <td>0.0</td>\n      <td>42.400002</td>\n    </tr>\n  </tbody>\n</table>\n</div>"
     },
     "execution_count": 6,
     "metadata": {},
     "output_type": "execute_result"
    }
   ],
   "source": [
    "X_train = preprocess(X_train)\n",
    "pd.DataFrame(X_train).head()"
   ],
   "metadata": {
    "collapsed": false,
    "pycharm": {
     "name": "#%%\n"
    }
   }
  },
  {
   "cell_type": "code",
   "execution_count": 7,
   "outputs": [
    {
     "data": {
      "text/plain": "(1047, 6)"
     },
     "execution_count": 7,
     "metadata": {},
     "output_type": "execute_result"
    }
   ],
   "source": [
    "X_train.shape"
   ],
   "metadata": {
    "collapsed": false,
    "pycharm": {
     "name": "#%%\n"
    }
   }
  },
  {
   "cell_type": "code",
   "execution_count": 8,
   "outputs": [
    {
     "data": {
      "text/plain": "(1047, 2)"
     },
     "execution_count": 8,
     "metadata": {},
     "output_type": "execute_result"
    }
   ],
   "source": [
    "y_train.shape"
   ],
   "metadata": {
    "collapsed": false,
    "pycharm": {
     "name": "#%%\n"
    }
   }
  },
  {
   "cell_type": "markdown",
   "source": [
    "# Aufbau des neuronalen Netzes"
   ],
   "metadata": {
    "collapsed": false,
    "pycharm": {
     "name": "#%% md\n"
    }
   }
  },
  {
   "cell_type": "code",
   "execution_count": 9,
   "outputs": [
    {
     "name": "stdout",
     "output_type": "stream",
     "text": [
      "WARNING:tensorflow:From C:\\Users\\nic-e\\OneDrive\\Dokumente\\GitHub\\DHBW_Daten_Analyse\\venv\\lib\\site-packages\\tflearn\\initializations.py:164: calling TruncatedNormal.__init__ (from tensorflow.python.ops.init_ops) with dtype is deprecated and will be removed in a future version.\n",
      "Instructions for updating:\n",
      "Call initializer instance with the dtype argument instead of passing it to the constructor\n"
     ]
    }
   ],
   "source": [
    "import tensorflow as tf\n",
    "\n",
    "# Bauen neural network\n",
    "net = tflearn.input_data(shape=[None, 6])\n",
    "net = tflearn.fully_connected(net, 32)\n",
    "net = tflearn.fully_connected(net, 32)\n",
    "net = tflearn.fully_connected(net, 2, activation=\"softmax\")\n",
    "net = tflearn.regression(net)"
   ],
   "metadata": {
    "collapsed": false,
    "pycharm": {
     "name": "#%%\n"
    }
   }
  },
  {
   "cell_type": "markdown",
   "source": [
    "# Train it"
   ],
   "metadata": {
    "collapsed": false,
    "pycharm": {
     "name": "#%% md\n"
    }
   }
  },
  {
   "cell_type": "code",
   "execution_count": 10,
   "outputs": [
    {
     "name": "stdout",
     "output_type": "stream",
     "text": [
      "Training Step: 599  | time: 0.154s\n",
      "| Adam | epoch: 020 | loss: 0.00000 - acc: 0.0000 -- iter: 928/942\n",
      "Training Step: 600  | time: 1.167s\n",
      "| Adam | epoch: 020 | loss: 0.00000 - acc: 0.0000 | val_loss: 0.44775 - val_acc: 0.8286 -- iter: 942/942\n",
      "--\n"
     ]
    }
   ],
   "source": [
    "# Definieren das model\n",
    "model = tflearn.DNN(net)\n",
    "# Start training (apply gradient descent algorithm)\n",
    "model.fit(X_train, y_train, n_epoch=20, batch_size=32, show_metric=True)\n",
    "# Mit cross validation\n",
    "model2 = tflearn.DNN(net)\n",
    "model2.fit(X_train, y_train, n_epoch=20, batch_size=32, show_metric=True, validation_set=0.1)"
   ],
   "metadata": {
    "collapsed": false,
    "pycharm": {
     "name": "#%%\n"
    }
   }
  },
  {
   "cell_type": "markdown",
   "source": [
    "# Bewerten Sie es"
   ],
   "metadata": {
    "collapsed": false,
    "pycharm": {
     "name": "#%% md\n"
    }
   }
  },
  {
   "cell_type": "code",
   "execution_count": 11,
   "outputs": [],
   "source": [
    "X_test = preprocess(X_test)\n",
    "metric_train = model.evaluate(X_train, y_train)\n",
    "metric_test = model.evaluate(X_test, y_test)\n",
    "metric_train_1 = model2.evaluate(X_train, y_train)\n",
    "metric_test_1 = model2.evaluate(X_test, y_test)"
   ],
   "metadata": {
    "collapsed": false,
    "pycharm": {
     "name": "#%%\n"
    }
   }
  },
  {
   "cell_type": "code",
   "execution_count": 12,
   "outputs": [
    {
     "name": "stdout",
     "output_type": "stream",
     "text": [
      "Model 1 Accuracy on train set: 0.786055396\n",
      "Model 1 Accuracy on test set: 0.763358779\n",
      "Model 2 Accuracy on train set: 0.793696276\n",
      "Model 2 Accuracy on test set: 0.763358779\n"
     ]
    }
   ],
   "source": [
    "print('Model 1 Accuracy on train set: %.9f' % metric_train[0])\n",
    "print(\"Model 1 Accuracy on test set: %.9f\" % metric_test[0])\n",
    "print('Model 2 Accuracy on train set: %.9f' % metric_train_1[0])\n",
    "print(\"Model 2 Accuracy on test set: %.9f\" % metric_test_1[0])"
   ],
   "metadata": {
    "collapsed": false,
    "pycharm": {
     "name": "#%%\n"
    }
   }
  },
  {
   "cell_type": "markdown",
   "source": [
    "# Erstellen wir einige gefälschte Daten für Leo und Cate"
   ],
   "metadata": {
    "collapsed": false,
    "pycharm": {
     "name": "#%% md\n"
    }
   }
  },
  {
   "cell_type": "code",
   "execution_count": 13,
   "outputs": [
    {
     "name": "stdout",
     "output_type": "stream",
     "text": [
      "DiCaprio Surviving Rate: 0.12484403\n",
      "Winslet Surviving Rate: 0.8591321\n"
     ]
    }
   ],
   "source": [
    "# Let's create some data for DiCaprio and Winslet\n",
    "dicaprio = [3, 'Jack Dawson', 'male', 19, 0, 0, 'N/A', 5.0000]\n",
    "winslet = [1, 'Rose DeWitt Bukater', 'female', 17, 1, 2, 'N/A', 100.0000]\n",
    "# Preprocess data\n",
    "dicaprio, winslet = preprocess(pd.DataFrame([dicaprio, winslet]))\n",
    "\n",
    "# Überlebenschancen vorhersagen \n",
    "pred = model.predict([dicaprio, winslet])\n",
    "print(\"DiCaprio Surviving Rate:\", pred[0][1])\n",
    "print(\"Winslet Surviving Rate:\", pred[1][1])"
   ],
   "metadata": {
    "collapsed": false,
    "pycharm": {
     "name": "#%%\n"
    }
   }
  },
  {
   "cell_type": "code",
   "execution_count": null,
   "outputs": [],
   "source": [],
   "metadata": {
    "collapsed": false,
    "pycharm": {
     "name": "#%%\n"
    }
   }
  }
 ],
 "metadata": {
  "kernelspec": {
   "display_name": "Python 3 (ipykernel)",
   "language": "python",
   "name": "python3"
  },
  "language_info": {
   "codemirror_mode": {
    "name": "ipython",
    "version": 3
   },
   "file_extension": ".py",
   "mimetype": "text/x-python",
   "name": "python",
   "nbconvert_exporter": "python",
   "pygments_lexer": "ipython3",
   "version": "3.7.13"
  },
  "pycharm": {
   "stem_cell": {
    "cell_type": "raw",
    "metadata": {
     "collapsed": false
    },
    "source": []
   }
  }
 },
 "nbformat": 4,
 "nbformat_minor": 2
}