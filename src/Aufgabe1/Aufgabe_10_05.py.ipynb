{
 "cells": [
  {
   "cell_type": "code",
   "execution_count": 1,
   "metadata": {
    "pycharm": {
     "name": "#%%\n"
    }
   },
   "outputs": [],
   "source": [
    "import pandas as pd"
   ]
  },
  {
   "cell_type": "code",
   "execution_count": 3,
   "metadata": {
    "pycharm": {
     "name": "#%%\n"
    }
   },
   "outputs": [],
   "source": [
    "#load data\n",
    "df = pd.read_csv(\"../../Data/laptops.csv\", encoding='latin-1')"
   ]
  },
  {
   "cell_type": "code",
   "execution_count": 4,
   "metadata": {
    "pycharm": {
     "name": "#%%\n"
    }
   },
   "outputs": [
    {
     "data": {
      "text/html": [
       "<div>\n",
       "<style scoped>\n",
       "    .dataframe tbody tr th:only-of-type {\n",
       "        vertical-align: middle;\n",
       "    }\n",
       "\n",
       "    .dataframe tbody tr th {\n",
       "        vertical-align: top;\n",
       "    }\n",
       "\n",
       "    .dataframe thead th {\n",
       "        text-align: right;\n",
       "    }\n",
       "</style>\n",
       "<table border=\"1\" class=\"dataframe\">\n",
       "  <thead>\n",
       "    <tr style=\"text-align: right;\">\n",
       "      <th></th>\n",
       "      <th>Unnamed: 0</th>\n",
       "      <th>Company</th>\n",
       "      <th>Product</th>\n",
       "      <th>TypeName</th>\n",
       "      <th>Inches</th>\n",
       "      <th>ScreenResolution</th>\n",
       "      <th>Cpu</th>\n",
       "      <th>Ram</th>\n",
       "      <th>Memory</th>\n",
       "      <th>Gpu</th>\n",
       "      <th>OpSys</th>\n",
       "      <th>Weight</th>\n",
       "      <th>Price_euros</th>\n",
       "    </tr>\n",
       "  </thead>\n",
       "  <tbody>\n",
       "    <tr>\n",
       "      <th>0</th>\n",
       "      <td>1</td>\n",
       "      <td>Apple</td>\n",
       "      <td>MacBook Pro</td>\n",
       "      <td>Ultrabook</td>\n",
       "      <td>13.3</td>\n",
       "      <td>IPS Panel Retina Display 2560x1600</td>\n",
       "      <td>Intel Core i5 2.3GHz</td>\n",
       "      <td>8GB</td>\n",
       "      <td>128GB SSD</td>\n",
       "      <td>Intel Iris Plus Graphics 640</td>\n",
       "      <td>macOS</td>\n",
       "      <td>1.37kg</td>\n",
       "      <td>1339.69</td>\n",
       "    </tr>\n",
       "    <tr>\n",
       "      <th>1</th>\n",
       "      <td>2</td>\n",
       "      <td>Apple</td>\n",
       "      <td>Macbook Air</td>\n",
       "      <td>Ultrabook</td>\n",
       "      <td>13.3</td>\n",
       "      <td>1440x900</td>\n",
       "      <td>Intel Core i5 1.8GHz</td>\n",
       "      <td>8GB</td>\n",
       "      <td>128GB Flash Storage</td>\n",
       "      <td>Intel HD Graphics 6000</td>\n",
       "      <td>macOS</td>\n",
       "      <td>1.34kg</td>\n",
       "      <td>898.94</td>\n",
       "    </tr>\n",
       "    <tr>\n",
       "      <th>2</th>\n",
       "      <td>3</td>\n",
       "      <td>HP</td>\n",
       "      <td>250 G6</td>\n",
       "      <td>Notebook</td>\n",
       "      <td>15.6</td>\n",
       "      <td>Full HD 1920x1080</td>\n",
       "      <td>Intel Core i5 7200U 2.5GHz</td>\n",
       "      <td>8GB</td>\n",
       "      <td>256GB SSD</td>\n",
       "      <td>Intel HD Graphics 620</td>\n",
       "      <td>No OS</td>\n",
       "      <td>1.86kg</td>\n",
       "      <td>575.00</td>\n",
       "    </tr>\n",
       "    <tr>\n",
       "      <th>3</th>\n",
       "      <td>4</td>\n",
       "      <td>Apple</td>\n",
       "      <td>MacBook Pro</td>\n",
       "      <td>Ultrabook</td>\n",
       "      <td>15.4</td>\n",
       "      <td>IPS Panel Retina Display 2880x1800</td>\n",
       "      <td>Intel Core i7 2.7GHz</td>\n",
       "      <td>16GB</td>\n",
       "      <td>512GB SSD</td>\n",
       "      <td>AMD Radeon Pro 455</td>\n",
       "      <td>macOS</td>\n",
       "      <td>1.83kg</td>\n",
       "      <td>2537.45</td>\n",
       "    </tr>\n",
       "    <tr>\n",
       "      <th>4</th>\n",
       "      <td>5</td>\n",
       "      <td>Apple</td>\n",
       "      <td>MacBook Pro</td>\n",
       "      <td>Ultrabook</td>\n",
       "      <td>13.3</td>\n",
       "      <td>IPS Panel Retina Display 2560x1600</td>\n",
       "      <td>Intel Core i5 3.1GHz</td>\n",
       "      <td>8GB</td>\n",
       "      <td>256GB SSD</td>\n",
       "      <td>Intel Iris Plus Graphics 650</td>\n",
       "      <td>macOS</td>\n",
       "      <td>1.37kg</td>\n",
       "      <td>1803.60</td>\n",
       "    </tr>\n",
       "  </tbody>\n",
       "</table>\n",
       "</div>"
      ],
      "text/plain": [
       "   Unnamed: 0 Company      Product   TypeName  Inches  \\\n",
       "0           1   Apple  MacBook Pro  Ultrabook    13.3   \n",
       "1           2   Apple  Macbook Air  Ultrabook    13.3   \n",
       "2           3      HP       250 G6   Notebook    15.6   \n",
       "3           4   Apple  MacBook Pro  Ultrabook    15.4   \n",
       "4           5   Apple  MacBook Pro  Ultrabook    13.3   \n",
       "\n",
       "                     ScreenResolution                         Cpu   Ram  \\\n",
       "0  IPS Panel Retina Display 2560x1600        Intel Core i5 2.3GHz   8GB   \n",
       "1                            1440x900        Intel Core i5 1.8GHz   8GB   \n",
       "2                   Full HD 1920x1080  Intel Core i5 7200U 2.5GHz   8GB   \n",
       "3  IPS Panel Retina Display 2880x1800        Intel Core i7 2.7GHz  16GB   \n",
       "4  IPS Panel Retina Display 2560x1600        Intel Core i5 3.1GHz   8GB   \n",
       "\n",
       "                Memory                           Gpu  OpSys  Weight  \\\n",
       "0            128GB SSD  Intel Iris Plus Graphics 640  macOS  1.37kg   \n",
       "1  128GB Flash Storage        Intel HD Graphics 6000  macOS  1.34kg   \n",
       "2            256GB SSD         Intel HD Graphics 620  No OS  1.86kg   \n",
       "3            512GB SSD            AMD Radeon Pro 455  macOS  1.83kg   \n",
       "4            256GB SSD  Intel Iris Plus Graphics 650  macOS  1.37kg   \n",
       "\n",
       "   Price_euros  \n",
       "0      1339.69  \n",
       "1       898.94  \n",
       "2       575.00  \n",
       "3      2537.45  \n",
       "4      1803.60  "
      ]
     },
     "execution_count": 4,
     "metadata": {},
     "output_type": "execute_result"
    }
   ],
   "source": [
    "df.head()"
   ]
  },
  {
   "cell_type": "code",
   "execution_count": 5,
   "metadata": {
    "pycharm": {
     "name": "#%%\n"
    }
   },
   "outputs": [
    {
     "name": "stdout",
     "output_type": "stream",
     "text": [
      "<class 'pandas.core.frame.DataFrame'>\n",
      "RangeIndex: 1303 entries, 0 to 1302\n",
      "Data columns (total 13 columns):\n",
      " #   Column            Non-Null Count  Dtype  \n",
      "---  ------            --------------  -----  \n",
      " 0   Unnamed: 0        1303 non-null   int64  \n",
      " 1   Company           1303 non-null   object \n",
      " 2   Product           1303 non-null   object \n",
      " 3   TypeName          1303 non-null   object \n",
      " 4   Inches            1303 non-null   float64\n",
      " 5   ScreenResolution  1303 non-null   object \n",
      " 6   Cpu               1303 non-null   object \n",
      " 7   Ram               1303 non-null   object \n",
      " 8   Memory            1303 non-null   object \n",
      " 9   Gpu               1303 non-null   object \n",
      " 10  OpSys             1303 non-null   object \n",
      " 11  Weight            1303 non-null   object \n",
      " 12  Price_euros       1303 non-null   float64\n",
      "dtypes: float64(2), int64(1), object(10)\n",
      "memory usage: 132.5+ KB\n"
     ]
    }
   ],
   "source": [
    "# get Information about the Dataframe\n",
    "df.info()"
   ]
  },
  {
   "cell_type": "code",
   "execution_count": 6,
   "metadata": {
    "pycharm": {
     "name": "#%%\n"
    }
   },
   "outputs": [],
   "source": [
    "#das GB von ram weglassen und in einen numerischen Wert ändern\n",
    "df['Ram'] = df['Ram'].replace('[GB]', '', regex=True)\n",
    "df['Ram'] = pd.to_numeric(df['Ram'])"
   ]
  },
  {
   "cell_type": "code",
   "execution_count": 8,
   "metadata": {
    "pycharm": {
     "name": "#%%\n"
    }
   },
   "outputs": [],
   "source": [
    "#jetzt für Weight\n",
    "#das 'KG' entfernen und in eine numerische Zahl ändern\n",
    "df['Weight'] = df['Weight'].replace('kg', '', regex=True)\n",
    "df['weight'] = pd.to_numeric(df['Weight'])"
   ]
  },
  {
   "cell_type": "code",
   "execution_count": 9,
   "metadata": {
    "pycharm": {
     "name": "#%%\n"
    }
   },
   "outputs": [
    {
     "name": "stdout",
     "output_type": "stream",
     "text": [
      "   Unnamed: 0 Company      Product   TypeName  Inches  \\\n",
      "0           1   Apple  MacBook Pro  Ultrabook    13.3   \n",
      "1           2   Apple  Macbook Air  Ultrabook    13.3   \n",
      "2           3      HP       250 G6   Notebook    15.6   \n",
      "3           4   Apple  MacBook Pro  Ultrabook    15.4   \n",
      "4           5   Apple  MacBook Pro  Ultrabook    13.3   \n",
      "\n",
      "                     ScreenResolution                         Cpu  Ram  \\\n",
      "0  IPS Panel Retina Display 2560x1600        Intel Core i5 2.3GHz    8   \n",
      "1                            1440x900        Intel Core i5 1.8GHz    8   \n",
      "2                   Full HD 1920x1080  Intel Core i5 7200U 2.5GHz    8   \n",
      "3  IPS Panel Retina Display 2880x1800        Intel Core i7 2.7GHz   16   \n",
      "4  IPS Panel Retina Display 2560x1600        Intel Core i5 3.1GHz    8   \n",
      "\n",
      "                Memory                           Gpu  OpSys Weight  \\\n",
      "0            128GB SSD  Intel Iris Plus Graphics 640  macOS   1.37   \n",
      "1  128GB Flash Storage        Intel HD Graphics 6000  macOS   1.34   \n",
      "2            256GB SSD         Intel HD Graphics 620  No OS   1.86   \n",
      "3            512GB SSD            AMD Radeon Pro 455  macOS   1.83   \n",
      "4            256GB SSD  Intel Iris Plus Graphics 650  macOS   1.37   \n",
      "\n",
      "   Price_euros  weight  \n",
      "0      1339.69    1.37  \n",
      "1       898.94    1.34  \n",
      "2       575.00    1.86  \n",
      "3      2537.45    1.83  \n",
      "4      1803.60    1.37  \n",
      "<class 'pandas.core.frame.DataFrame'>\n",
      "RangeIndex: 1303 entries, 0 to 1302\n",
      "Data columns (total 14 columns):\n",
      " #   Column            Non-Null Count  Dtype  \n",
      "---  ------            --------------  -----  \n",
      " 0   Unnamed: 0        1303 non-null   int64  \n",
      " 1   Company           1303 non-null   object \n",
      " 2   Product           1303 non-null   object \n",
      " 3   TypeName          1303 non-null   object \n",
      " 4   Inches            1303 non-null   float64\n",
      " 5   ScreenResolution  1303 non-null   object \n",
      " 6   Cpu               1303 non-null   object \n",
      " 7   Ram               1303 non-null   int64  \n",
      " 8   Memory            1303 non-null   object \n",
      " 9   Gpu               1303 non-null   object \n",
      " 10  OpSys             1303 non-null   object \n",
      " 11  Weight            1303 non-null   object \n",
      " 12  Price_euros       1303 non-null   float64\n",
      " 13  weight            1303 non-null   float64\n",
      "dtypes: float64(3), int64(2), object(9)\n",
      "memory usage: 142.6+ KB\n"
     ]
    }
   ],
   "source": [
    "print(df.head())\n",
    "df.info()"
   ]
  },
  {
   "cell_type": "code",
   "execution_count": 10,
   "metadata": {
    "pycharm": {
     "name": "#%%\n"
    }
   },
   "outputs": [
    {
     "name": "stdout",
     "output_type": "stream",
     "text": [
      "   Unnamed: 0 Company      Product   TypeName  Inches  \\\n",
      "0           1   Apple  MacBook Pro  Ultrabook    13.3   \n",
      "1           2   Apple  Macbook Air  Ultrabook    13.3   \n",
      "2           3      HP       250 G6   Notebook    15.6   \n",
      "3           4   Apple  MacBook Pro  Ultrabook    15.4   \n",
      "4           5   Apple  MacBook Pro  Ultrabook    13.3   \n",
      "\n",
      "                     ScreenResolution                         Cpu  Ram  \\\n",
      "0  IPS Panel Retina Display 2560x1600        Intel Core i5 2.3GHz    8   \n",
      "1                            1440x900        Intel Core i5 1.8GHz    8   \n",
      "2                   Full HD 1920x1080  Intel Core i5 7200U 2.5GHz    8   \n",
      "3  IPS Panel Retina Display 2880x1800        Intel Core i7 2.7GHz   16   \n",
      "4  IPS Panel Retina Display 2560x1600        Intel Core i5 3.1GHz    8   \n",
      "\n",
      "                Memory                           Gpu  OpSys Weight  \\\n",
      "0            128GB SSD  Intel Iris Plus Graphics 640  macOS   1.37   \n",
      "1  128GB Flash Storage        Intel HD Graphics 6000  macOS   1.34   \n",
      "2            256GB SSD         Intel HD Graphics 620  No OS   1.86   \n",
      "3            512GB SSD            AMD Radeon Pro 455  macOS   1.83   \n",
      "4            256GB SSD  Intel Iris Plus Graphics 650  macOS   1.37   \n",
      "\n",
      "   Price_euros  weight  Angebot  \n",
      "0      1339.69    1.37  1239.69  \n",
      "1       898.94    1.34   798.94  \n",
      "2       575.00    1.86   475.00  \n",
      "3      2537.45    1.83  2437.45  \n",
      "4      1803.60    1.37  1703.60  \n",
      "<class 'pandas.core.frame.DataFrame'>\n",
      "RangeIndex: 1303 entries, 0 to 1302\n",
      "Data columns (total 15 columns):\n",
      " #   Column            Non-Null Count  Dtype  \n",
      "---  ------            --------------  -----  \n",
      " 0   Unnamed: 0        1303 non-null   int64  \n",
      " 1   Company           1303 non-null   object \n",
      " 2   Product           1303 non-null   object \n",
      " 3   TypeName          1303 non-null   object \n",
      " 4   Inches            1303 non-null   float64\n",
      " 5   ScreenResolution  1303 non-null   object \n",
      " 6   Cpu               1303 non-null   object \n",
      " 7   Ram               1303 non-null   int64  \n",
      " 8   Memory            1303 non-null   object \n",
      " 9   Gpu               1303 non-null   object \n",
      " 10  OpSys             1303 non-null   object \n",
      " 11  Weight            1303 non-null   object \n",
      " 12  Price_euros       1303 non-null   float64\n",
      " 13  weight            1303 non-null   float64\n",
      " 14  Angebot           1303 non-null   float64\n",
      "dtypes: float64(4), int64(2), object(9)\n",
      "memory usage: 152.8+ KB\n"
     ]
    }
   ],
   "source": [
    "#erstelle eine neue Variable mit der Name Angebot, die 100 Euro weniger als die aktuelle Preis ist\n",
    "df['Angebot'] = df['Price_euros'] -100\n",
    "print(df.head())\n",
    "df.info()"
   ]
  },
  {
   "cell_type": "code",
   "execution_count": 11,
   "metadata": {
    "pycharm": {
     "name": "#%%\n"
    }
   },
   "outputs": [
    {
     "name": "stdout",
     "output_type": "stream",
     "text": [
      "   Unnamed: 0 Company      Product   TypeName  Inches  \\\n",
      "0           1   Apple  MacBook Pro  Ultrabook    13.3   \n",
      "1           2   Apple  Macbook Air  Ultrabook    13.3   \n",
      "2           3      HP       250 G6   Notebook    15.6   \n",
      "3           4   Apple  MacBook Pro  Ultrabook    15.4   \n",
      "4           5   Apple  MacBook Pro  Ultrabook    13.3   \n",
      "\n",
      "                     ScreenResolution                         Cpu  Ram  \\\n",
      "0  IPS Panel Retina Display 2560x1600        Intel Core i5 2.3GHz    8   \n",
      "1                            1440x900        Intel Core i5 1.8GHz    8   \n",
      "2                   Full HD 1920x1080  Intel Core i5 7200U 2.5GHz    8   \n",
      "3  IPS Panel Retina Display 2880x1800        Intel Core i7 2.7GHz   16   \n",
      "4  IPS Panel Retina Display 2560x1600        Intel Core i5 3.1GHz    8   \n",
      "\n",
      "                Memory                           Gpu  OpSys Weight  \\\n",
      "0            128GB SSD  Intel Iris Plus Graphics 640  macOS   1.37   \n",
      "1  128GB Flash Storage        Intel HD Graphics 6000  macOS   1.34   \n",
      "2            256GB SSD         Intel HD Graphics 620  No OS   1.86   \n",
      "3            512GB SSD            AMD Radeon Pro 455  macOS   1.83   \n",
      "4            256GB SSD  Intel Iris Plus Graphics 650  macOS   1.37   \n",
      "\n",
      "   Price_euros  weight  Angebot  ersteAngebot  \n",
      "0      1339.69    1.37  1239.69     1312.8962  \n",
      "1       898.94    1.34   798.94      880.9612  \n",
      "2       575.00    1.86   475.00      563.5000  \n",
      "3      2537.45    1.83  2437.45     2486.7010  \n",
      "4      1803.60    1.37  1703.60     1767.5280  \n"
     ]
    }
   ],
   "source": [
    "#erstelle eine neue Variable mit der Name ersteAngebot, die 2% Euro weniger als die aktuelle Preis ist\n",
    "df['ersteAngebot'] = df['Price_euros'] * 0.98\n",
    "print(df.head())"
   ]
  },
  {
   "cell_type": "code",
   "execution_count": 12,
   "metadata": {
    "pycharm": {
     "name": "#%%\n"
    }
   },
   "outputs": [
    {
     "name": "stdout",
     "output_type": "stream",
     "text": [
      "   Unnamed: 0 Company      Product   TypeName  Inches  \\\n",
      "0           1   Apple  MacBook Pro  Ultrabook    13.3   \n",
      "1           2   Apple  Macbook Air  Ultrabook    13.3   \n",
      "2           3      HP       250 G6   Notebook    15.6   \n",
      "3           4   Apple  MacBook Pro  Ultrabook    15.4   \n",
      "4           5   Apple  MacBook Pro  Ultrabook    13.3   \n",
      "\n",
      "                     ScreenResolution                         Cpu  Ram  \\\n",
      "0  IPS Panel Retina Display 2560x1600        Intel Core i5 2.3GHz    8   \n",
      "1                            1440x900        Intel Core i5 1.8GHz    8   \n",
      "2                   Full HD 1920x1080  Intel Core i5 7200U 2.5GHz    8   \n",
      "3  IPS Panel Retina Display 2880x1800        Intel Core i7 2.7GHz   16   \n",
      "4  IPS Panel Retina Display 2560x1600        Intel Core i5 3.1GHz    8   \n",
      "\n",
      "                Memory                           Gpu  OpSys Weight  \\\n",
      "0            128GB SSD  Intel Iris Plus Graphics 640  macOS   1.37   \n",
      "1  128GB Flash Storage        Intel HD Graphics 6000  macOS   1.34   \n",
      "2            256GB SSD         Intel HD Graphics 620  No OS   1.86   \n",
      "3            512GB SSD            AMD Radeon Pro 455  macOS   1.83   \n",
      "4            256GB SSD  Intel Iris Plus Graphics 650  macOS   1.37   \n",
      "\n",
      "   Price_euros  weight  maxAngebot  ersteAngebot  \n",
      "0      1339.69    1.37     1239.69     1312.8962  \n",
      "1       898.94    1.34      798.94      880.9612  \n",
      "2       575.00    1.86      475.00      563.5000  \n",
      "3      2537.45    1.83     2437.45     2486.7010  \n",
      "4      1803.60    1.37     1703.60     1767.5280  \n"
     ]
    }
   ],
   "source": [
    "#unbennene die Variable Angebot zum maxAngebot\n",
    "df.rename(columns = {'Angebot':'maxAngebot'}, inplace = True)\n",
    "print(df.head())"
   ]
  },
  {
   "cell_type": "code",
   "execution_count": 14,
   "metadata": {
    "pycharm": {
     "name": "#%%\n"
    }
   },
   "outputs": [
    {
     "name": "stdout",
     "output_type": "stream",
     "text": [
      "   Unnamed: 0 Company      Product   TypeName  Inches  \\\n",
      "0           1   Apple  MacBook Pro  Ultrabook    13.3   \n",
      "1           2   Apple  Macbook Air  Ultrabook    13.3   \n",
      "2           3      HP       250 G6   Notebook    15.6   \n",
      "3           4   Apple  MacBook Pro  Ultrabook    15.4   \n",
      "4           5   Apple  MacBook Pro  Ultrabook    13.3   \n",
      "\n",
      "                     ScreenResolution                         Cpu  Ram_GB  \\\n",
      "0  IPS Panel Retina Display 2560x1600        Intel Core i5 2.3GHz       8   \n",
      "1                            1440x900        Intel Core i5 1.8GHz       8   \n",
      "2                   Full HD 1920x1080  Intel Core i5 7200U 2.5GHz       8   \n",
      "3  IPS Panel Retina Display 2880x1800        Intel Core i7 2.7GHz      16   \n",
      "4  IPS Panel Retina Display 2560x1600        Intel Core i5 3.1GHz       8   \n",
      "\n",
      "                Memory                           Gpu  OpSys Weight_KG  \\\n",
      "0            128GB SSD  Intel Iris Plus Graphics 640  macOS      1.37   \n",
      "1  128GB Flash Storage        Intel HD Graphics 6000  macOS      1.34   \n",
      "2            256GB SSD         Intel HD Graphics 620  No OS      1.86   \n",
      "3            512GB SSD            AMD Radeon Pro 455  macOS      1.83   \n",
      "4            256GB SSD  Intel Iris Plus Graphics 650  macOS      1.37   \n",
      "\n",
      "   Price_euros  weight  maxAngebot  ersteAngebot  \n",
      "0      1339.69    1.37     1239.69     1312.8962  \n",
      "1       898.94    1.34      798.94      880.9612  \n",
      "2       575.00    1.86      475.00      563.5000  \n",
      "3      2537.45    1.83     2437.45     2486.7010  \n",
      "4      1803.60    1.37     1703.60     1767.5280  \n"
     ]
    }
   ],
   "source": [
    "#unbennene die Variable Ram zum Ram_GB\n",
    "df.rename(columns = {'Ram' : 'Ram_GB'}, inplace=True)\n",
    "\n",
    "#unbennene die Variable Weight zum Weight_KG\n",
    "df.rename(columns={'Weight' : 'Weight_KG'}, inplace=True)\n",
    "print(df.head())"
   ]
  },
  {
   "cell_type": "code",
   "execution_count": 15,
   "metadata": {
    "pycharm": {
     "name": "#%%\n"
    }
   },
   "outputs": [
    {
     "name": "stdout",
     "output_type": "stream",
     "text": [
      "   Unnamed: 0 Company      Product   TypeName  Inches  \\\n",
      "0           1   Apple  MacBook Pro  Ultrabook    13.3   \n",
      "1           2   Apple  Macbook Air  Ultrabook    13.3   \n",
      "3           4   Apple  MacBook Pro  Ultrabook    15.4   \n",
      "4           5   Apple  MacBook Pro  Ultrabook    13.3   \n",
      "6           7   Apple  MacBook Pro  Ultrabook    15.4   \n",
      "\n",
      "                     ScreenResolution                   Cpu  Ram_GB  \\\n",
      "0  IPS Panel Retina Display 2560x1600  Intel Core i5 2.3GHz       8   \n",
      "1                            1440x900  Intel Core i5 1.8GHz       8   \n",
      "3  IPS Panel Retina Display 2880x1800  Intel Core i7 2.7GHz      16   \n",
      "4  IPS Panel Retina Display 2560x1600  Intel Core i5 3.1GHz       8   \n",
      "6  IPS Panel Retina Display 2880x1800  Intel Core i7 2.2GHz      16   \n",
      "\n",
      "                Memory                           Gpu     OpSys Weight_KG  \\\n",
      "0            128GB SSD  Intel Iris Plus Graphics 640     macOS      1.37   \n",
      "1  128GB Flash Storage        Intel HD Graphics 6000     macOS      1.34   \n",
      "3            512GB SSD            AMD Radeon Pro 455     macOS      1.83   \n",
      "4            256GB SSD  Intel Iris Plus Graphics 650     macOS      1.37   \n",
      "6  256GB Flash Storage       Intel Iris Pro Graphics  Mac OS X      2.04   \n",
      "\n",
      "   Price_euros  weight  maxAngebot  ersteAngebot  \n",
      "0      1339.69    1.37     1239.69     1312.8962  \n",
      "1       898.94    1.34      798.94      880.9612  \n",
      "3      2537.45    1.83     2437.45     2486.7010  \n",
      "4      1803.60    1.37     1703.60     1767.5280  \n",
      "6      2139.97    2.04     2039.97     2097.1706  \n"
     ]
    }
   ],
   "source": [
    "#erstelle eine neue Dataframe mit der Name apple, welche alle Daten von df enthält, die als Company Apple haben\n",
    "is_apple =  df['Company']==\"Apple\"\n",
    "apple = df[is_apple]\n",
    "print(apple.head())"
   ]
  },
  {
   "cell_type": "code",
   "execution_count": 16,
   "metadata": {
    "pycharm": {
     "name": "#%%\n"
    }
   },
   "outputs": [
    {
     "name": "stdout",
     "output_type": "stream",
     "text": [
      "   Unnamed: 0 Company      Product   TypeName  Inches  \\\n",
      "0           1   Apple  MacBook Pro  Ultrabook    13.3   \n",
      "1           2   Apple  Macbook Air  Ultrabook    13.3   \n",
      "3           4   Apple  MacBook Pro  Ultrabook    15.4   \n",
      "4           5   Apple  MacBook Pro  Ultrabook    13.3   \n",
      "6           7   Apple  MacBook Pro  Ultrabook    15.4   \n",
      "\n",
      "                     ScreenResolution                   Cpu  Ram_GB  \\\n",
      "0  IPS Panel Retina Display 2560x1600  Intel Core i5 2.3GHz       8   \n",
      "1                            1440x900  Intel Core i5 1.8GHz       8   \n",
      "3  IPS Panel Retina Display 2880x1800  Intel Core i7 2.7GHz      16   \n",
      "4  IPS Panel Retina Display 2560x1600  Intel Core i5 3.1GHz       8   \n",
      "6  IPS Panel Retina Display 2880x1800  Intel Core i7 2.2GHz      16   \n",
      "\n",
      "                Memory                           Gpu     OpSys Weight_KG  \\\n",
      "0            128GB SSD  Intel Iris Plus Graphics 640     macOS      1.37   \n",
      "1  128GB Flash Storage        Intel HD Graphics 6000     macOS      1.34   \n",
      "3            512GB SSD            AMD Radeon Pro 455     macOS      1.83   \n",
      "4            256GB SSD  Intel Iris Plus Graphics 650     macOS      1.37   \n",
      "6  256GB Flash Storage       Intel Iris Pro Graphics  Mac OS X      2.04   \n",
      "\n",
      "   Price_euros  weight  maxAngebot  ersteAngebot  \n",
      "0      1339.69    1.37     1239.69     1312.8962  \n",
      "1       898.94    1.34      798.94      880.9612  \n",
      "3      2537.45    1.83     2437.45     2486.7010  \n",
      "4      1803.60    1.37     1703.60     1767.5280  \n",
      "6      2139.97    2.04     2039.97     2097.1706  \n"
     ]
    }
   ],
   "source": [
    "#erstelle eine neue Dataframe mit der Name Ultrabook, welche alle Daten von df enthält, die als TypeName Ultrabook haben\n",
    "is_ultrabook = df['TypeName'] == 'Ultrabook'\n",
    "Ultrabook = df[is_ultrabook]\n",
    "print(Ultrabook.head())"
   ]
  },
  {
   "cell_type": "code",
   "execution_count": 17,
   "metadata": {
    "pycharm": {
     "name": "#%%\n"
    }
   },
   "outputs": [
    {
     "name": "stdout",
     "output_type": "stream",
     "text": [
      "    Unnamed: 0 Company      Product   TypeName  Inches  \\\n",
      "1            2   Apple  Macbook Air  Ultrabook    13.3   \n",
      "2            3      HP       250 G6   Notebook    15.6   \n",
      "5            6    Acer     Aspire 3   Notebook    15.6   \n",
      "9           10    Acer      Swift 3  Ultrabook    14.0   \n",
      "10          11      HP       250 G6   Notebook    15.6   \n",
      "\n",
      "               ScreenResolution                         Cpu  Ram_GB  \\\n",
      "1                      1440x900        Intel Core i5 1.8GHz       8   \n",
      "2             Full HD 1920x1080  Intel Core i5 7200U 2.5GHz       8   \n",
      "5                      1366x768     AMD A9-Series 9420 3GHz       4   \n",
      "9   IPS Panel Full HD 1920x1080  Intel Core i5 8250U 1.6GHz       8   \n",
      "10                     1366x768  Intel Core i5 7200U 2.5GHz       4   \n",
      "\n",
      "                 Memory                     Gpu       OpSys Weight_KG  \\\n",
      "1   128GB Flash Storage  Intel HD Graphics 6000       macOS      1.34   \n",
      "2             256GB SSD   Intel HD Graphics 620       No OS      1.86   \n",
      "5             500GB HDD           AMD Radeon R5  Windows 10       2.1   \n",
      "9             256GB SSD  Intel UHD Graphics 620  Windows 10       1.6   \n",
      "10            500GB HDD   Intel HD Graphics 620       No OS      1.86   \n",
      "\n",
      "    Price_euros  weight  maxAngebot  ersteAngebot  \n",
      "1        898.94    1.34      798.94      880.9612  \n",
      "2        575.00    1.86      475.00      563.5000  \n",
      "5        400.00    2.10      300.00      392.0000  \n",
      "9        770.00    1.60      670.00      754.6000  \n",
      "10       393.90    1.86      293.90      386.0220  \n"
     ]
    }
   ],
   "source": [
    "#erstelle eine neue Dataframe mit der Name laptop_unt_1000, welche alle Daten von df enthält, die weniger als 1000 Euro kosten\n",
    "unt_1000 =  df['Price_euros']<= 1000\n",
    "laptop_unt_1000 = df[unt_1000]\n",
    "print(laptop_unt_1000.head())"
   ]
  },
  {
   "cell_type": "code",
   "execution_count": 21,
   "metadata": {
    "pycharm": {
     "name": "#%%\n"
    }
   },
   "outputs": [
    {
     "name": "stdout",
     "output_type": "stream",
     "text": [
      "   Unnamed: 0 Company      Product   TypeName  Inches  \\\n",
      "0           1   Apple  MacBook Pro  Ultrabook    13.3   \n",
      "3           4   Apple  MacBook Pro  Ultrabook    15.4   \n",
      "4           5   Apple  MacBook Pro  Ultrabook    13.3   \n",
      "6           7   Apple  MacBook Pro  Ultrabook    15.4   \n",
      "7           8   Apple  Macbook Air  Ultrabook    13.3   \n",
      "\n",
      "                     ScreenResolution                   Cpu  Ram_GB  \\\n",
      "0  IPS Panel Retina Display 2560x1600  Intel Core i5 2.3GHz       8   \n",
      "3  IPS Panel Retina Display 2880x1800  Intel Core i7 2.7GHz      16   \n",
      "4  IPS Panel Retina Display 2560x1600  Intel Core i5 3.1GHz       8   \n",
      "6  IPS Panel Retina Display 2880x1800  Intel Core i7 2.2GHz      16   \n",
      "7                            1440x900  Intel Core i5 1.8GHz       8   \n",
      "\n",
      "                Memory                           Gpu     OpSys Weight_KG  \\\n",
      "0            128GB SSD  Intel Iris Plus Graphics 640     macOS      1.37   \n",
      "3            512GB SSD            AMD Radeon Pro 455     macOS      1.83   \n",
      "4            256GB SSD  Intel Iris Plus Graphics 650     macOS      1.37   \n",
      "6  256GB Flash Storage       Intel Iris Pro Graphics  Mac OS X      2.04   \n",
      "7  256GB Flash Storage        Intel HD Graphics 6000     macOS      1.34   \n",
      "\n",
      "   Price_euros  weight  maxAngebot  ersteAngebot  \n",
      "0      1339.69    1.37     1239.69     1312.8962  \n",
      "3      2537.45    1.83     2437.45     2486.7010  \n",
      "4      1803.60    1.37     1703.60     1767.5280  \n",
      "6      2139.97    2.04     2039.97     2097.1706  \n",
      "7      1158.70    1.34     1058.70     1135.5260  \n"
     ]
    }
   ],
   "source": [
    "#erstelle eine neue Dataframe mit der Name Ultrabook_900, welche alle Daten von df enthält, die ein maxAngebot groeßer als 900 Euro haben\n",
    "Ultrabook_900 = df[df['Price_euros'] >= 900]\n",
    "print(Ultrabook_900.head())"
   ]
  },
  {
   "cell_type": "code",
   "execution_count": null,
   "metadata": {
    "pycharm": {
     "name": "#%%\n"
    }
   },
   "outputs": [],
   "source": []
  }
 ],
 "metadata": {
  "kernelspec": {
   "display_name": "Python 3 (ipykernel)",
   "language": "python",
   "name": "python3"
  },
  "language_info": {
   "codemirror_mode": {
    "name": "ipython",
    "version": 3
   },
   "file_extension": ".py",
   "mimetype": "text/x-python",
   "name": "python",
   "nbconvert_exporter": "python",
   "pygments_lexer": "ipython3",
   "version": "3.9.7"
  }
 },
 "nbformat": 4,
 "nbformat_minor": 1
}